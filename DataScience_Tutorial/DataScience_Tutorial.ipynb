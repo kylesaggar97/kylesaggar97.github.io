{
 "cells": [
  {
   "cell_type": "markdown",
   "metadata": {},
   "source": [
    "<h1><center>CMSC320: Intro to Data Science Tutorial</center></h1>"
   ]
  },
  {
   "cell_type": "code",
   "execution_count": 1,
   "metadata": {
    "collapsed": true
   },
   "outputs": [],
   "source": [
    "import pandas as pd\n",
    "import numpy as np"
   ]
  },
  {
   "cell_type": "code",
   "execution_count": 8,
   "metadata": {
    "collapsed": false
   },
   "outputs": [
    {
     "name": "stdout",
     "output_type": "stream",
     "text": [
      "       Month  Primary Energy Consumed by the Residential Sector  \\\n",
      "0 1973-01-01                                           1313.816   \n",
      "1 1973-02-01                                           1150.011   \n",
      "2 1973-03-01                                            970.362   \n",
      "3 1973-04-01                                            709.631   \n",
      "4 1973-05-01                                            544.596   \n",
      "\n",
      "   Total Energy Consumed by the Residential Sector  \\\n",
      "0                                         1932.187   \n",
      "1                                         1687.255   \n",
      "2                                         1497.067   \n",
      "3                                         1177.661   \n",
      "4                                         1015.008   \n",
      "\n",
      "   Primary Energy Consumed by the Commercial Sector  \\\n",
      "0                                           656.607   \n",
      "1                                           621.766   \n",
      "2                                           490.154   \n",
      "3                                           362.003   \n",
      "4                                           289.109   \n",
      "\n",
      "   Total Energy Consumed by the Commercial Sector  \\\n",
      "0                                        1079.310   \n",
      "1                                        1001.920   \n",
      "2                                         884.437   \n",
      "3                                         735.461   \n",
      "4                                         696.114   \n",
      "\n",
      "   Primary Energy Consumed by the Industrial Sector  \\\n",
      "0                                          2054.675   \n",
      "1                                          1869.459   \n",
      "2                                          1944.295   \n",
      "3                                          1924.207   \n",
      "4                                          2070.447   \n",
      "\n",
      "   Total Energy Consumed by the Industrial Sector  \\\n",
      "0                                        2701.524   \n",
      "1                                        2460.752   \n",
      "2                                        2579.613   \n",
      "3                                        2550.210   \n",
      "4                                        2741.810   \n",
      "\n",
      "   Primary Energy Consumed by the Transportation Sector  \\\n",
      "0                                           1506.380      \n",
      "1                                           1439.361      \n",
      "2                                           1561.162      \n",
      "3                                           1479.971      \n",
      "4                                           1621.585      \n",
      "\n",
      "   Total Energy Consumed by the Transportation Sector  \\\n",
      "0                                           1509.552    \n",
      "1                                           1442.127    \n",
      "2                                           1564.016    \n",
      "3                                           1482.632    \n",
      "4                                           1624.436    \n",
      "\n",
      "   Primary Energy Consumed by the Electric Power Sector  \\\n",
      "0                                           1691.096      \n",
      "1                                           1511.458      \n",
      "2                                           1559.159      \n",
      "3                                           1470.152      \n",
      "4                                           1551.631      \n",
      "\n",
      "   Energy Consumption Balancing Item  Primary Energy Consumption Total  \n",
      "0                              3.693                          7226.265  \n",
      "1                              2.654                          6594.709  \n",
      "2                             -0.934                          6524.198  \n",
      "3                             -1.627                          5944.336  \n",
      "4                             -2.817                          6074.551  \n"
     ]
    }
   ],
   "source": [
    "energy_data = pd.read_excel(\"Table_2.1_Energy_Consumption_by_Sector-2.xlsx\", sheetname=\"Monthly Data\", header=10, skiprows=[11])\n",
    "print(energy_data.head(5))"
   ]
  },
  {
   "cell_type": "code",
   "execution_count": null,
   "metadata": {
    "collapsed": true
   },
   "outputs": [],
   "source": []
  }
 ],
 "metadata": {
  "kernelspec": {
   "display_name": "Python 3",
   "language": "python",
   "name": "python3"
  },
  "language_info": {
   "codemirror_mode": {
    "name": "ipython",
    "version": 3
   },
   "file_extension": ".py",
   "mimetype": "text/x-python",
   "name": "python",
   "nbconvert_exporter": "python",
   "pygments_lexer": "ipython3",
   "version": "3.6.0"
  }
 },
 "nbformat": 4,
 "nbformat_minor": 2
}
